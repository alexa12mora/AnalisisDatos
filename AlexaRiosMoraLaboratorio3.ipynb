{
  "nbformat": 4,
  "nbformat_minor": 0,
  "metadata": {
    "colab": {
      "provenance": [],
      "authorship_tag": "ABX9TyMxTz6hdFg0IrHgdNBDeNSk",
      "include_colab_link": true
    },
    "kernelspec": {
      "name": "python3",
      "display_name": "Python 3"
    },
    "language_info": {
      "name": "python"
    }
  },
  "cells": [
    {
      "cell_type": "markdown",
      "metadata": {
        "id": "view-in-github",
        "colab_type": "text"
      },
      "source": [
        "<a href=\"https://colab.research.google.com/github/alexa12mora/AnalisisDatos/blob/Alexa/AlexaRiosMoraLaboratorio3.ipynb\" target=\"_parent\"><img src=\"https://colab.research.google.com/assets/colab-badge.svg\" alt=\"Open In Colab\"/></a>"
      ]
    },
    {
      "cell_type": "code",
      "execution_count": null,
      "metadata": {
        "id": "nJyfOqkUcgYN"
      },
      "outputs": [],
      "source": [
        "\n",
        "print(\"Ejericicio Bisiesto\")\n",
        "\n",
        "anio = int(input(\"Ingrese el año:\"))\n",
        "if(anio  % 400 == 0)or (anio% 4 == 0) and (anio% 100 != 0):\n",
        "    print(\"El año es Bisiesto\")\n",
        "else:\n",
        "     print(\"El año no es Bisiesto\")\n",
        "     \n",
        "\n",
        "print(\"EJERCICIO AÑOS\") \n",
        "\n",
        "swither={1:\"Enero\",2:\"Febrero\",3:\"Marzo\",4:\"Abril\",5:\"Mayo\",6:\"Junio\",7:\"Julio\",8:\"Agosto\",9:\"Septiembre\",10:\"Octubre\",11:\"Noviebre\",12:\"Diciembre\"}\n",
        "n2=int(input(\"Ingrese un numero:\"))\n",
        "mes = swither.get(n2,\"Mes Invalido\")\n",
        "print(mes)     \n",
        "\n",
        "print(\"Intereses\") \n",
        "#Creacion de variables\n",
        "C=-1\n",
        "I=0\n",
        "M=0\n",
        " \n",
        "while(C<0) or(I<=0) or(I>=100)or(M<=0):\n",
        "        print(\"Indroduce el capital, el interes y el timepo apopiados\")\n",
        "        C = int(input(\"Capital: \"))\n",
        "        I = int(input(\"Interes: \"))\n",
        "        M = int(input(\"tiempo en annios: \"))\n",
        " \n",
        "for i in range(M):\n",
        "    C=C*(I+ I/100)\n",
        "    print(\"Monto:\",C,\"colones\")\n",
        "  \n",
        "    \n",
        "print(\"Calculo de los divisores\")     \n",
        "divisores= int(input(\"Ingrese un numero:\"))\n",
        "suma=0\n",
        "while divisores > 0:\n",
        "    for i in range(1,divisores+1):\n",
        "       if(divisores%i == 0):\n",
        "          suma = suma + i\n",
        "    print(suma)\n",
        "    divisores= int(input(\"Ingrese un numero:\"))"
      ]
    }
  ]
}