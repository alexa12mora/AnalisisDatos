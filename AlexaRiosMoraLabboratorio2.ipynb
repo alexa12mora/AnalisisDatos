{
  "nbformat": 4,
  "nbformat_minor": 0,
  "metadata": {
    "colab": {
      "provenance": [],
      "include_colab_link": true
    },
    "kernelspec": {
      "name": "python3",
      "display_name": "Python 3"
    },
    "language_info": {
      "name": "python"
    }
  },
  "cells": [
    {
      "cell_type": "markdown",
      "metadata": {
        "id": "view-in-github",
        "colab_type": "text"
      },
      "source": [
        "<a href=\"https://colab.research.google.com/github/alexa12mora/AnalisisDatos/blob/Alexa/AlexaRiosMoraLabboratorio2.ipynb\" target=\"_parent\"><img src=\"https://colab.research.google.com/assets/colab-badge.svg\" alt=\"Open In Colab\"/></a>"
      ]
    },
    {
      "cell_type": "code",
      "execution_count": null,
      "metadata": {
        "colab": {
          "base_uri": "https://localhost:8080/"
        },
        "id": "mEC_B7VB3KXb",
        "outputId": "d361d323-0747-4110-f709-d13caa98e3ad"
      },
      "outputs": [
        {
          "output_type": "stream",
          "name": "stdout",
          "text": [
            "Ingrese el primer valor:5\n",
            "Ingrese el segundo valor:6\n",
            "El numero menor es:6\n"
          ]
        }
      ],
      "source": [
        "\n",
        "\n",
        "n1=int(input(\"Ingrese el primer valor:\"))\n",
        "n2=int(input(\"Ingrese el segundo valor:\"))\n",
        "\n",
        "if n1<n2:\n",
        "  print(\"El numero menor es:\"+str(n1))\n",
        "else:\n",
        "  print(\"El numero menor es:\"+str(n2))  \n",
        "\n",
        "\n",
        "\n"
      ]
    },
    {
      "cell_type": "code",
      "source": [
        "print(\"EJERCICIO AÑOS\") \n",
        "\n",
        "swither={1:\"Enero\",2:\"Febrero\",3:\"Marzo\",4:\"Abril\",5:\"Mayo\",6:\"Junio\",7:\"Julio\",8:\"Agosto\",9:\"Septiembre\",10:\"Octubre\",11:\"Noviebre\",12:\"Diciembre\"}\n",
        "n2=int(input(\"Ingrese un valor:\"))\n",
        "mes = swither.get(n2,\"numero Invalido\")\n",
        "print(mes)"
      ],
      "metadata": {
        "colab": {
          "base_uri": "https://localhost:8080/"
        },
        "id": "AtCHoa8E7vq5",
        "outputId": "19c66ace-5d38-4fd2-abc2-e44da99eaf57"
      },
      "execution_count": null,
      "outputs": [
        {
          "output_type": "stream",
          "name": "stdout",
          "text": [
            "EJERCICIO AÑO BISIESTO\n",
            "Ingrese un valor:6\n",
            "Junio\n"
          ]
        }
      ]
    },
    {
      "cell_type": "code",
      "source": [],
      "metadata": {
        "id": "qWiHgMKD8guR"
      },
      "execution_count": null,
      "outputs": []
    }
  ]
}