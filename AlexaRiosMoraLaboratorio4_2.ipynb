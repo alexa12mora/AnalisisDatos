{
  "nbformat": 4,
  "nbformat_minor": 0,
  "metadata": {
    "colab": {
      "provenance": [],
      "authorship_tag": "ABX9TyMq5OeKyyiKXdHYUNJw605Q",
      "include_colab_link": true
    },
    "kernelspec": {
      "name": "python3",
      "display_name": "Python 3"
    },
    "language_info": {
      "name": "python"
    }
  },
  "cells": [
    {
      "cell_type": "markdown",
      "metadata": {
        "id": "view-in-github",
        "colab_type": "text"
      },
      "source": [
        "<a href=\"https://colab.research.google.com/github/alexa12mora/AnalisisDatos/blob/Alexa/AlexaRiosMoraLaboratorio4_2.ipynb\" target=\"_parent\"><img src=\"https://colab.research.google.com/assets/colab-badge.svg\" alt=\"Open In Colab\"/></a>"
      ]
    },
    {
      "cell_type": "code",
      "execution_count": 9,
      "metadata": {
        "id": "tyijPCR5cyXU",
        "colab": {
          "base_uri": "https://localhost:8080/"
        },
        "outputId": "a8d6954a-9037-4f6f-b275-220f714853ea"
      },
      "outputs": [
        {
          "output_type": "stream",
          "name": "stdout",
          "text": [
            "    iso3              country  year    mmr    bas  under5mr   nmr  hiv    tb  \\\n",
            "0    ATG  Antigua and Barbuda  2000   44.0   99.9      15.5   9.6  NaN   6.1   \n",
            "1    ATG  Antigua and Barbuda  2001   44.0  100.0      15.1   9.4  NaN   1.5   \n",
            "2    ATG  Antigua and Barbuda  2002   43.0    NaN      14.6   9.2  NaN   5.9   \n",
            "3    ATG  Antigua and Barbuda  2003   44.0   99.9      14.1   8.9  NaN   1.4   \n",
            "4    ATG  Antigua and Barbuda  2004   41.0  100.0      13.5   8.5  NaN   5.4   \n",
            "..   ...                  ...   ...    ...    ...       ...   ...  ...   ...   \n",
            "655  VEN            Venezuela  2015  115.0   97.3      19.1  14.4  0.2  30.0   \n",
            "656  VEN            Venezuela  2016  121.0   96.2      24.2  14.6  0.2  34.0   \n",
            "657  VEN            Venezuela  2017  125.0   95.4      24.2  14.7  0.2  45.0   \n",
            "658  VEN            Venezuela  2018    NaN    NaN      24.2  14.6  0.2  48.0   \n",
            "659  VEN            Venezuela  2019    NaN    NaN      24.2  14.6  0.2  45.0   \n",
            "\n",
            "     malaria  ...  suicide  alcohol  road_traffic  contraceptive   abr  \\\n",
            "0        NaN  ...      2.0      6.9           9.0           73.2  59.4   \n",
            "1        NaN  ...      1.9      6.8          13.2           73.6  66.8   \n",
            "2        NaN  ...      1.2      6.7           2.6           74.2   NaN   \n",
            "3        NaN  ...      1.4      6.9          10.2           74.5   NaN   \n",
            "4        NaN  ...      1.9      6.7           2.6           75.0   NaN   \n",
            "..       ...  ...      ...      ...           ...            ...   ...   \n",
            "655    4.587  ...      2.4      6.1          35.5           82.1   NaN   \n",
            "656   10.082  ...      2.3      4.0          36.3           82.2   NaN   \n",
            "657   17.886  ...      2.2      3.1          38.6           82.5   NaN   \n",
            "658   18.072  ...      2.2      2.8          39.1           82.7   NaN   \n",
            "659   17.280  ...      2.1      NaN          39.7           82.9   NaN   \n",
            "\n",
            "     poisoning    dpt  vaccination  tabacco  hwd  \n",
            "0          0.5   95.0          NaN      NaN  NaN  \n",
            "1          NaN   97.0          NaN      NaN  NaN  \n",
            "2          NaN   98.0          NaN      NaN  NaN  \n",
            "3          NaN  100.0          NaN      NaN  NaN  \n",
            "4          NaN   97.0          NaN      NaN  NaN  \n",
            "..         ...    ...          ...      ...  ...  \n",
            "655        0.3   87.0         52.0      NaN  NaN  \n",
            "656        0.3   84.0         53.0      NaN  NaN  \n",
            "657        NaN   66.0         59.0      NaN  NaN  \n",
            "658        NaN   60.0         39.0      NaN  NaN  \n",
            "659        NaN   64.0         13.0      NaN  NaN  \n",
            "\n",
            "[660 rows x 21 columns]\n"
          ]
        }
      ],
      "source": [
        "import pandas as pd\n",
        "\n",
        "datos = pd.read_csv('/content/sample_data/Datos.csv-_1_.csv')\n",
        "df = pd.DataFrame(datos)\n",
        "print(df)\n",
        "\n",
        "#Equipo de Python\n",
        "#Nicole Arias Lizano\n",
        "#Tiffanny Fernandez Soto\n",
        "#Alexa Rios Mora"
      ]
    }
  ]
}