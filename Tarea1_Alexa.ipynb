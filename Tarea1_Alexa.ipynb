{
  "nbformat": 4,
  "nbformat_minor": 0,
  "metadata": {
    "colab": {
      "provenance": [],
      "authorship_tag": "ABX9TyN1oMTimTAnOXRiyyue07aT",
      "include_colab_link": true
    },
    "kernelspec": {
      "name": "python3",
      "display_name": "Python 3"
    },
    "language_info": {
      "name": "python"
    }
  },
  "cells": [
    {
      "cell_type": "markdown",
      "metadata": {
        "id": "view-in-github",
        "colab_type": "text"
      },
      "source": [
        "<a href=\"https://colab.research.google.com/github/alexa12mora/AnalisisDatos/blob/main/Tarea1_Alexa.ipynb\" target=\"_parent\"><img src=\"https://colab.research.google.com/assets/colab-badge.svg\" alt=\"Open In Colab\"/></a>"
      ]
    },
    {
      "cell_type": "code",
      "execution_count": null,
      "metadata": {
        "id": "Tqosegr2TvMI"
      },
      "outputs": [],
      "source": [
        "print(\"LABORATORIO 1 ALEXA RIOS MORA\")\n",
        "\n",
        "print(\"EJERCICIO 1\")\n",
        "print(\"Ingre la velocidad y el tiempo\")\n",
        "v=float(input(\"Ingrese la velocidad:\"))\n",
        "t=float(input(\"Ingrese el tiempo:\"))\n",
        "\n",
        "print(\"La distancia es:\"+str(v*t))\n",
        "\n",
        "print(\"EJERCICIO 2\")\n",
        "n1=float(input(\"Ingrese el valor de la nota 1:\"))\n",
        "n2=float(input(\"Ingrese el valor de la nota 2:\"))\n",
        "n3=float(input(\"Ingrese el valor de la nota 3:\"))\n",
        "\n",
        "print(\"El promedio de la notas es:\"+str((n1+n2+n3)/3))\n",
        "\n",
        "print(\"EJERCICIO 3\")\n",
        "rc=float(input(\"Ingrese el numero de respuestas correctas:\"))\n",
        "ri=float(input(\"Ingrese el numero de respuestas incorrectas:\"))\n",
        "rb=float(input(\"Ingrese el numero de respuestas en blanco:\"))\n",
        "\n",
        "rest = rc*3 + ri*-1\n",
        "\n",
        "print(\"El promedio de la notas es:\"+str(rest))"
      ]
    }
  ]
}